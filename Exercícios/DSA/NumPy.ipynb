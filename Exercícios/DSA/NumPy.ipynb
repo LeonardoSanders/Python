{
 "cells": [
  {
   "cell_type": "markdown",
   "metadata": {},
   "source": [
    "**Utilização Básica do Módulo NumPy**"
   ]
  },
  {
   "cell_type": "code",
   "execution_count": null,
   "metadata": {},
   "outputs": [
    {
     "name": "stdout",
     "output_type": "stream",
     "text": [
      "[1 2 3]\n"
     ]
    }
   ],
   "source": [
    "#Importando o NumPy - se necessário, rodar o seguinte comando para instalar a biblioteca: !pip install numpy\n",
    "import numpy as np\n",
    "\n",
    "#Criando uma array diretamente com o método do módulo\n",
    "arr1 = np.array([1, 2, 3])\n",
    "print(arr1)"
   ]
  },
  {
   "cell_type": "code",
   "execution_count": null,
   "metadata": {},
   "outputs": [
    {
     "name": "stdout",
     "output_type": "stream",
     "text": [
      "[1 3 5 7]\n"
     ]
    }
   ],
   "source": [
    "#Também é possível criar um array utilizando uma lista existente\n",
    "lista1 = [1, 3, 5, 7]\n",
    "arr2= np.array(lista1)\n",
    "print(arr2)"
   ]
  },
  {
   "cell_type": "code",
   "execution_count": null,
   "metadata": {},
   "outputs": [
    {
     "name": "stdout",
     "output_type": "stream",
     "text": [
      "[ 0  5 10 15 20 25 30 35 40 45]\n"
     ]
    }
   ],
   "source": [
    "#Além disso, é possível criar um array com o método arange, passando o início, final e o passo\n",
    "arr3 = np.arange(0, 50, 5)\n",
    "print(arr3)"
   ]
  },
  {
   "cell_type": "code",
   "execution_count": null,
   "metadata": {},
   "outputs": [
    {
     "name": "stdout",
     "output_type": "stream",
     "text": [
      "[[2 4 6 8]]\n"
     ]
    }
   ],
   "source": [
    "#O Método matrix também permite a criação de um array\n",
    "lista2 = [2, 4, 6, 8]\n",
    "arr4 = np.matrix(lista2)\n",
    "print(arr4)"
   ]
  },
  {
   "cell_type": "markdown",
   "metadata": {},
   "source": [
    "*A diferença básica entre o método array e matrix, é que o primeiro é mais voltado para tratar dados, enquanto o segundo para tratamentos matemáticos.*"
   ]
  },
  {
   "cell_type": "markdown",
   "metadata": {},
   "source": [
    "**TRABALHANDO COM MATRIZES EM NUMPY**"
   ]
  },
  {
   "cell_type": "code",
   "execution_count": 14,
   "metadata": {},
   "outputs": [
    {
     "name": "stdout",
     "output_type": "stream",
     "text": [
      "[1 2 3]\n"
     ]
    },
    {
     "data": {
      "text/plain": [
       "(3,)"
      ]
     },
     "execution_count": 14,
     "metadata": {},
     "output_type": "execute_result"
    }
   ],
   "source": [
    "#Por natureza, uma array simples é uma matriz unidimensional\n",
    "arr5 = np.array([1, 2, 3])\n",
    "print(arr5)\n",
    "arr5.shape"
   ]
  },
  {
   "cell_type": "code",
   "execution_count": 15,
   "metadata": {},
   "outputs": [
    {
     "name": "stdout",
     "output_type": "stream",
     "text": [
      "[[1 2 3]\n",
      " [4 5 6]]\n"
     ]
    },
    {
     "data": {
      "text/plain": [
       "(2, 3)"
      ]
     },
     "execution_count": 15,
     "metadata": {},
     "output_type": "execute_result"
    }
   ],
   "source": [
    "#Já quando criamos um array de uma lista de duas listas, teremos uma matriz bidimensional\n",
    "arr6 = np.array([[1, 2, 3], [4, 5, 6]])\n",
    "print(arr6)\n",
    "arr6.shape"
   ]
  },
  {
   "cell_type": "code",
   "execution_count": null,
   "metadata": {},
   "outputs": [
    {
     "name": "stdout",
     "output_type": "stream",
     "text": [
      "[[[ 1  2  3]\n",
      "  [ 4  5  6]]\n",
      "\n",
      " [[ 7  8  9]\n",
      "  [10 11 12]]]\n"
     ]
    },
    {
     "data": {
      "text/plain": [
       "(2, 2, 3)"
      ]
     },
     "execution_count": 16,
     "metadata": {},
     "output_type": "execute_result"
    }
   ],
   "source": [
    "#Já uma matriz tridimensional, possui 2 elementos, cada qual com 2 linhas e 3 colunas, conforme o resultado do atributo SHAPE\n",
    "lista3 = [\n",
    "    [\n",
    "        [1, 2, 3],\n",
    "        [4, 5, 6]\n",
    "    ],\n",
    "    [\n",
    "        [7, 8, 9],\n",
    "        [10, 11, 12]\n",
    "    ]\n",
    "]\n",
    "arr7 = np.array(lista3)\n",
    "print(arr7)\n",
    "arr7.shape"
   ]
  },
  {
   "cell_type": "code",
   "execution_count": 19,
   "metadata": {},
   "outputs": [
    {
     "name": "stdout",
     "output_type": "stream",
     "text": [
      "[[[[  1   2   3   4   5]\n",
      "   [  6   7   8   9  10]\n",
      "   [ 11  12  13  14  15]\n",
      "   [ 16  17  18  19  20]]\n",
      "\n",
      "  [[ 21  22  23  24  25]\n",
      "   [ 26  27  28  29  30]\n",
      "   [ 31  32  33  34  35]\n",
      "   [ 36  37  38  39  40]]\n",
      "\n",
      "  [[ 41  42  43  44  45]\n",
      "   [ 46  47  48  49  50]\n",
      "   [ 51  52  53  54  55]\n",
      "   [ 56  57  58  59  60]]]\n",
      "\n",
      "\n",
      " [[[ 61  62  63  64  65]\n",
      "   [ 66  67  68  69  70]\n",
      "   [ 71  72  73  74  75]\n",
      "   [ 76  77  78  79  80]]\n",
      "\n",
      "  [[ 81  82  83  84  85]\n",
      "   [ 86  87  88  89  90]\n",
      "   [ 91  92  93  94  95]\n",
      "   [ 96  97  98  99 100]]\n",
      "\n",
      "  [[101 102 103 104 105]\n",
      "   [106 107 108 109 110]\n",
      "   [111 112 113 114 115]\n",
      "   [116 117 118 119 120]]]]\n"
     ]
    },
    {
     "data": {
      "text/plain": [
       "4"
      ]
     },
     "execution_count": 19,
     "metadata": {},
     "output_type": "execute_result"
    }
   ],
   "source": [
    "arr8 = np.array([\n",
    "    [\n",
    "        [\n",
    "            [1, 2, 3, 4, 5],\n",
    "            [6, 7, 8, 9, 10],\n",
    "            [11, 12, 13, 14, 15],\n",
    "            [16, 17, 18, 19, 20]\n",
    "        ],\n",
    "        [\n",
    "            [21, 22, 23, 24, 25],\n",
    "            [26, 27, 28, 29, 30],\n",
    "            [31, 32, 33, 34, 35],\n",
    "            [36, 37, 38, 39, 40]\n",
    "        ],\n",
    "        [\n",
    "            [41, 42, 43, 44, 45],\n",
    "            [46, 47, 48, 49, 50],\n",
    "            [51, 52, 53, 54, 55],\n",
    "            [56, 57, 58, 59, 60]\n",
    "        ]\n",
    "    ],\n",
    "    [\n",
    "        [\n",
    "            [61, 62, 63, 64, 65],\n",
    "            [66, 67, 68, 69, 70],\n",
    "            [71, 72, 73, 74, 75],\n",
    "            [76, 77, 78, 79, 80]\n",
    "        ],\n",
    "        [\n",
    "            [81, 82, 83, 84, 85],\n",
    "            [86, 87, 88, 89, 90],\n",
    "            [91, 92, 93, 94, 95],\n",
    "            [96, 97, 98, 99, 100]\n",
    "        ],\n",
    "        [\n",
    "            [101, 102, 103, 104, 105],\n",
    "            [106, 107, 108, 109, 110],\n",
    "            [111, 112, 113, 114, 115],\n",
    "            [116, 117, 118, 119, 120]\n",
    "        ]\n",
    "    ]\n",
    "])\n",
    "\n",
    "print(arr8)\n",
    "arr8.shape\n",
    "arr8.ndim"
   ]
  },
  {
   "cell_type": "markdown",
   "metadata": {},
   "source": [
    "**INSERÇÃO DO TIPO DE DADO**"
   ]
  },
  {
   "cell_type": "code",
   "execution_count": null,
   "metadata": {},
   "outputs": [],
   "source": [
    "#Por padrão, o array faz o auto incremento do tipo de dado que está sendo inserido, porém, é possível forçar o tipo de dado que está sendo inserido. Ex.:\n",
    "z = np.array([1, 2], dtype = np.float64)\n",
    "\n",
    "#No exemplo acima, os dados são do tipo int, mas passaram a ser tipo float devido o valor de dtype ter sido informado na passagem dos dados."
   ]
  },
  {
   "cell_type": "markdown",
   "metadata": {},
   "source": [
    "**FATIAMENTO DE ARRAYS**"
   ]
  },
  {
   "cell_type": "code",
   "execution_count": 22,
   "metadata": {},
   "outputs": [
    {
     "name": "stdout",
     "output_type": "stream",
     "text": [
      "[[1 2 3]\n",
      " [4 5 6]\n",
      " [7 8 9]]\n"
     ]
    }
   ],
   "source": [
    "#Fatiamento de Arrays\n",
    "\n",
    "arr9 = np.array([[1, 2, 3], [4, 5, 6], [7, 8, 9]])\n",
    "print(arr9)\n"
   ]
  },
  {
   "cell_type": "code",
   "execution_count": null,
   "metadata": {},
   "outputs": [
    {
     "name": "stdout",
     "output_type": "stream",
     "text": [
      "8\n",
      "[3 6]\n",
      "[2 5]\n"
     ]
    }
   ],
   "source": [
    "print(arr9[2,1])\n",
    "print(arr9[:2,2])\n",
    "print(arr9[0:2,1])"
   ]
  },
  {
   "cell_type": "markdown",
   "metadata": {},
   "source": [
    "*Basicamente, no fatiamento de matrizes, é preciso indicar a linha e coluna (dimensões da matriz) separados por vírgula ([2,3]), para que um dado valor seja retornado*\n",
    "\n",
    "*No caso dos exemplos ([:2,2] e [0:2,1]) o fatiamento está selecionando a partir da linha 0 até a 2 os elementos da coluna de indice 2 ou 1, dependendo do exemplo*"
   ]
  }
 ],
 "metadata": {
  "kernelspec": {
   "display_name": "Python 3",
   "language": "python",
   "name": "python3"
  },
  "language_info": {
   "codemirror_mode": {
    "name": "ipython",
    "version": 3
   },
   "file_extension": ".py",
   "mimetype": "text/x-python",
   "name": "python",
   "nbconvert_exporter": "python",
   "pygments_lexer": "ipython3",
   "version": "3.12.4"
  }
 },
 "nbformat": 4,
 "nbformat_minor": 2
}
