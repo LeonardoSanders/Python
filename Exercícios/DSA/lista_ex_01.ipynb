{
 "cells": [
  {
   "cell_type": "markdown",
   "metadata": {},
   "source": [
    "Exercício 1 - Imprima na tela os números de 1 a 10. Use uma lista para armazenar os números.\n",
    "\n",
    "Exercício 2 - Crie uma lista de 5 objetos e imprima na tela.\n",
    "\n",
    "Exercício 3 - Crie duas strings e concatene as duas em uma terceira string.\n",
    "\n",
    "Exercício 4 - Crie uma tupla com os seguintes elementos: 1, 2, 2, 3, 4, 4, 4, 5 e depois utilize a função count do objeto tupla para verificar quantas vezes o número 4 aparece na tupla.\n",
    "\n",
    "Exercício 5 - Crie um dicionário vazio e imprima na tela.\n",
    "\n",
    "Exercício 6 - Crie um dicionário com 3 chaves e 3 valores e imprima na tela.\n",
    "\n",
    "Exercício 7 - Adicione mais um elemento ao dicionário criado no exercício anterior e imprima na tela.\n",
    "\n",
    "Exercício 8 - Crie um dicionário com 3 chaves e 3 valores. Um dos valores deve ser uma lista de 2 elementos numéricos. Imprima o dicionário na tela.\n",
    "\n",
    "Exercício 9 - Crie uma lista de 4 elementos. O primeiro elemento deve ser uma string, o segundo uma tupla de 2 elementos, o terceiro um dcionário com 2 chaves e 2 valores e o quarto elemento um valor do tipo float. Imprima a lista.\n",
    "\n",
    "Exercício 10 - Considere a string abaixo. Imprima na tela apenas os caracteres da posição 1 a 18. frase = 'Cientista de Dados é o profissional mais sexy do século XXI'\n"
   ]
  },
  {
   "cell_type": "code",
   "execution_count": 1,
   "metadata": {},
   "outputs": [
    {
     "name": "stdout",
     "output_type": "stream",
     "text": [
      "[1, 2, 3, 4, 5, 6, 7, 8, 9, 10]\n"
     ]
    }
   ],
   "source": [
    "lista = [n for n in range(1, 11)]\n",
    "print(lista)"
   ]
  },
  {
   "cell_type": "code",
   "execution_count": 2,
   "metadata": {},
   "outputs": [
    {
     "name": "stdout",
     "output_type": "stream",
     "text": [
      "[0, 1, 2, 3, 4]\n"
     ]
    }
   ],
   "source": [
    "lista = [n for n in range(5)]\n",
    "print(lista)"
   ]
  },
  {
   "cell_type": "code",
   "execution_count": 17,
   "metadata": {},
   "outputs": [
    {
     "name": "stdout",
     "output_type": "stream",
     "text": [
      "Léo Sanders\n"
     ]
    }
   ],
   "source": [
    "nome = 'Léo '\n",
    "sobrenome = 'Sanders'\n",
    "nome_completo = nome + sobrenome\n",
    "print(nome_completo)"
   ]
  },
  {
   "cell_type": "code",
   "execution_count": 4,
   "metadata": {},
   "outputs": [
    {
     "name": "stdout",
     "output_type": "stream",
     "text": [
      "3\n"
     ]
    }
   ],
   "source": [
    "lista = (1, 2, 2, 3, 4, 4, 4, 5)\n",
    "print(lista.count(4))"
   ]
  },
  {
   "cell_type": "code",
   "execution_count": 5,
   "metadata": {},
   "outputs": [
    {
     "name": "stdout",
     "output_type": "stream",
     "text": [
      "{}\n"
     ]
    }
   ],
   "source": [
    "dicio = dict()\n",
    "print(dicio)"
   ]
  },
  {
   "cell_type": "code",
   "execution_count": 23,
   "metadata": {},
   "outputs": [
    {
     "name": "stdout",
     "output_type": "stream",
     "text": [
      "{'nome_1': 'Leo', 'nome_2': 'Dandara', 'nome_3': 'Lorena'}\n"
     ]
    }
   ],
   "source": [
    "dicio = {\n",
    "    'nome_1': 'Leo',\n",
    "    'nome_2': 'Dandara',\n",
    "    'nome_3': 'Lorena'}\n",
    "print(dicio)"
   ]
  },
  {
   "cell_type": "code",
   "execution_count": 24,
   "metadata": {},
   "outputs": [
    {
     "name": "stdout",
     "output_type": "stream",
     "text": [
      "{'nome_1': 'Leo', 'nome_2': 'Dandara', 'nome_3': 'Lorena', 'nome_4': 'Gustavo'}\n"
     ]
    }
   ],
   "source": [
    "dicio['nome_4'] = 'Gustavo'\n",
    "print(dicio)"
   ]
  },
  {
   "cell_type": "code",
   "execution_count": 20,
   "metadata": {},
   "outputs": [
    {
     "name": "stdout",
     "output_type": "stream",
     "text": [
      "{'int': 1, 'float': 2.5, 'lista': [1, 2.5]}\n"
     ]
    }
   ],
   "source": [
    "dicio_2 = {\n",
    "    'int': 1,\n",
    "    'float': 2.5,\n",
    "    'lista': [1, 2.5]\n",
    "}\n",
    "print(dicio_2)"
   ]
  },
  {
   "cell_type": "code",
   "execution_count": 11,
   "metadata": {},
   "outputs": [
    {
     "name": "stdout",
     "output_type": "stream",
     "text": [
      "['Léo', (1, 2), {'idade': 29, 'altura': 1.83}, 1.5]\n"
     ]
    }
   ],
   "source": [
    "lista = ['Léo', (1, 2), {'idade': 29, 'altura': 1.83}, 1.5]\n",
    "print(lista)"
   ]
  },
  {
   "cell_type": "code",
   "execution_count": 16,
   "metadata": {},
   "outputs": [
    {
     "name": "stdout",
     "output_type": "stream",
     "text": [
      "Cientista de Dados \n"
     ]
    }
   ],
   "source": [
    "frase = 'Cientista de Dados é o profissional mais sexy do século XXI'\n",
    "print(frase[:19])"
   ]
  }
 ],
 "metadata": {
  "kernelspec": {
   "display_name": "venv",
   "language": "python",
   "name": "python3"
  },
  "language_info": {
   "codemirror_mode": {
    "name": "ipython",
    "version": 3
   },
   "file_extension": ".py",
   "mimetype": "text/x-python",
   "name": "python",
   "nbconvert_exporter": "python",
   "pygments_lexer": "ipython3",
   "version": "3.12.4"
  }
 },
 "nbformat": 4,
 "nbformat_minor": 2
}
