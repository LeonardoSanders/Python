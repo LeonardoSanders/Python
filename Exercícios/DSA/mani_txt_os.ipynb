{
 "cells": [
  {
   "cell_type": "code",
   "execution_count": 7,
   "metadata": {},
   "outputs": [
    {
     "name": "stdout",
     "output_type": "stream",
     "text": [
      "Olá, Mundo!\n",
      "Meu nome é Leonardo Sanders\n",
      "e estou aprendendo a manipulação de arquivos TXT em Python!\n",
      "\n"
     ]
    }
   ],
   "source": [
    "texto = 'Olá, Mundo!\\n'\n",
    "texto = texto + 'Meu nome é Leonardo Sanders\\n'\n",
    "texto += 'e estou aprendendo a manipulação de arquivos TXT em Python!\\n'\n",
    "\n",
    "print(texto)"
   ]
  },
  {
   "cell_type": "code",
   "execution_count": 8,
   "metadata": {},
   "outputs": [],
   "source": [
    "import os\n",
    "arquivo = open(os.path.join('cientista.txt'), 'w')\n",
    "\n",
    "for palavra in texto.split():\n",
    "    arquivo.write(palavra + ' ')\n",
    "    \n",
    "arquivo.close()\n"
   ]
  },
  {
   "cell_type": "code",
   "execution_count": 9,
   "metadata": {},
   "outputs": [
    {
     "name": "stdout",
     "output_type": "stream",
     "text": [
      "Olá, Mundo! Meu nome é Leonardo Sanders e estou aprendendo a manipulação de arquivos TXT em Python! \n"
     ]
    }
   ],
   "source": [
    "arquivo = open('cientista.txt', 'r')\n",
    "conteudo = arquivo.read()\n",
    "arquivo.close()\n",
    "\n",
    "print(conteudo)"
   ]
  },
  {
   "cell_type": "code",
   "execution_count": 11,
   "metadata": {},
   "outputs": [
    {
     "name": "stdout",
     "output_type": "stream",
     "text": [
      "100\n"
     ]
    }
   ],
   "source": [
    "with open('cientista.txt', 'r') as arquivo:\n",
    "    caractere = arquivo.read()\n",
    "print(len(caractere))"
   ]
  },
  {
   "cell_type": "code",
   "execution_count": 12,
   "metadata": {},
   "outputs": [],
   "source": [
    "with open('cientista.txt', 'w') as arquivo:\n",
    "    arquivo.write(texto[:11])\n",
    "    arquivo.write('\\n')\n",
    "    arquivo.write(texto[12:100])"
   ]
  },
  {
   "cell_type": "code",
   "execution_count": 13,
   "metadata": {},
   "outputs": [
    {
     "name": "stdout",
     "output_type": "stream",
     "text": [
      "Olá, Mundo!\n",
      "Meu nome é Leonardo Sanders\n",
      "e estou aprendendo a manipulação de arquivos TXT em Python!\n",
      "\n"
     ]
    }
   ],
   "source": [
    "arquivo = open('cientista.txt', 'r')\n",
    "conteudo = arquivo.read()\n",
    "arquivo.close()\n",
    "\n",
    "print(conteudo)"
   ]
  }
 ],
 "metadata": {
  "kernelspec": {
   "display_name": "Python 3",
   "language": "python",
   "name": "python3"
  },
  "language_info": {
   "codemirror_mode": {
    "name": "ipython",
    "version": 3
   },
   "file_extension": ".py",
   "mimetype": "text/x-python",
   "name": "python",
   "nbconvert_exporter": "python",
   "pygments_lexer": "ipython3",
   "version": "3.12.4"
  }
 },
 "nbformat": 4,
 "nbformat_minor": 2
}
