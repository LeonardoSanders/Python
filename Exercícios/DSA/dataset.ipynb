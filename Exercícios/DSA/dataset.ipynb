{
 "cells": [
  {
   "cell_type": "code",
   "execution_count": null,
   "metadata": {},
   "outputs": [],
   "source": [
    "f = open('salarios.csv', 'r')\n",
    "data = f.read()\n",
    "rows = data.split('\\n')\n",
    "full_data = []\n",
    "for row in rows:\n",
    "    split_row = row.split(',')\n",
    "    full_data.append(split_row)\n",
    "print(full_data)"
   ]
  },
  {
   "cell_type": "code",
   "execution_count": 1,
   "metadata": {},
   "outputs": [
    {
     "data": {
      "text/html": [
       "<div>\n",
       "<style scoped>\n",
       "    .dataframe tbody tr th:only-of-type {\n",
       "        vertical-align: middle;\n",
       "    }\n",
       "\n",
       "    .dataframe tbody tr th {\n",
       "        vertical-align: top;\n",
       "    }\n",
       "\n",
       "    .dataframe thead th {\n",
       "        text-align: right;\n",
       "    }\n",
       "</style>\n",
       "<table border=\"1\" class=\"dataframe\">\n",
       "  <thead>\n",
       "    <tr style=\"text-align: right;\">\n",
       "      <th></th>\n",
       "      <th>Name</th>\n",
       "      <th>Job Titles</th>\n",
       "      <th>Department</th>\n",
       "      <th>Full or Part-Time</th>\n",
       "      <th>Salary or Hourly</th>\n",
       "      <th>Typical Hours</th>\n",
       "      <th>Annual Salary</th>\n",
       "      <th>Hourly Rate</th>\n",
       "    </tr>\n",
       "  </thead>\n",
       "  <tbody>\n",
       "    <tr>\n",
       "      <th>0</th>\n",
       "      <td>GARCIA, CHRISTOPHER A</td>\n",
       "      <td>CLERK - BD OF ELECTIONS</td>\n",
       "      <td>BOARD OF ELECTION COMMISSIONERS</td>\n",
       "      <td>F</td>\n",
       "      <td>SALARY</td>\n",
       "      <td>NaN</td>\n",
       "      <td>34176.0</td>\n",
       "      <td>NaN</td>\n",
       "    </tr>\n",
       "    <tr>\n",
       "      <th>1</th>\n",
       "      <td>SILVA, JAVIER</td>\n",
       "      <td>PROJECT COORD</td>\n",
       "      <td>CHICAGO DEPARTMENT OF PUBLIC HEALTH</td>\n",
       "      <td>F</td>\n",
       "      <td>SALARY</td>\n",
       "      <td>NaN</td>\n",
       "      <td>71004.0</td>\n",
       "      <td>NaN</td>\n",
       "    </tr>\n",
       "    <tr>\n",
       "      <th>2</th>\n",
       "      <td>HARRISON, LETECHIA</td>\n",
       "      <td>SR PROCUREMENT SPECIALIST</td>\n",
       "      <td>DEPARTMENT OF PROCUREMENT SERVICES</td>\n",
       "      <td>F</td>\n",
       "      <td>SALARY</td>\n",
       "      <td>NaN</td>\n",
       "      <td>90660.0</td>\n",
       "      <td>NaN</td>\n",
       "    </tr>\n",
       "    <tr>\n",
       "      <th>3</th>\n",
       "      <td>WASHINGTON, MAURICE</td>\n",
       "      <td>PROJECT COORD</td>\n",
       "      <td>DEPARTMENT OF FAMILY AND SUPPORT SERVICES</td>\n",
       "      <td>F</td>\n",
       "      <td>SALARY</td>\n",
       "      <td>NaN</td>\n",
       "      <td>71004.0</td>\n",
       "      <td>NaN</td>\n",
       "    </tr>\n",
       "    <tr>\n",
       "      <th>4</th>\n",
       "      <td>MCMAHON, THOMAS B</td>\n",
       "      <td>FIRE COMMUNICATIONS OPERATOR I</td>\n",
       "      <td>OFFICE OF EMERGENCY MANAGEMENT AND COMMUNICATIONS</td>\n",
       "      <td>F</td>\n",
       "      <td>SALARY</td>\n",
       "      <td>NaN</td>\n",
       "      <td>78792.0</td>\n",
       "      <td>NaN</td>\n",
       "    </tr>\n",
       "  </tbody>\n",
       "</table>\n",
       "</div>"
      ],
      "text/plain": [
       "                    Name                      Job Titles  \\\n",
       "0  GARCIA, CHRISTOPHER A         CLERK - BD OF ELECTIONS   \n",
       "1          SILVA, JAVIER                   PROJECT COORD   \n",
       "2     HARRISON, LETECHIA       SR PROCUREMENT SPECIALIST   \n",
       "3    WASHINGTON, MAURICE                   PROJECT COORD   \n",
       "4      MCMAHON, THOMAS B  FIRE COMMUNICATIONS OPERATOR I   \n",
       "\n",
       "                                          Department Full or Part-Time  \\\n",
       "0                    BOARD OF ELECTION COMMISSIONERS                 F   \n",
       "1                CHICAGO DEPARTMENT OF PUBLIC HEALTH                 F   \n",
       "2                 DEPARTMENT OF PROCUREMENT SERVICES                 F   \n",
       "3          DEPARTMENT OF FAMILY AND SUPPORT SERVICES                 F   \n",
       "4  OFFICE OF EMERGENCY MANAGEMENT AND COMMUNICATIONS                 F   \n",
       "\n",
       "  Salary or Hourly  Typical Hours  Annual Salary  Hourly Rate  \n",
       "0           SALARY            NaN        34176.0          NaN  \n",
       "1           SALARY            NaN        71004.0          NaN  \n",
       "2           SALARY            NaN        90660.0          NaN  \n",
       "3           SALARY            NaN        71004.0          NaN  \n",
       "4           SALARY            NaN        78792.0          NaN  "
      ]
     },
     "execution_count": 1,
     "metadata": {},
     "output_type": "execute_result"
    }
   ],
   "source": [
    "import pandas as pd\n",
    "arquivo = open('salarios.csv', 'r')\n",
    "df = pd.read_csv(arquivo)\n",
    "df.head()"
   ]
  },
  {
   "cell_type": "code",
   "execution_count": 3,
   "metadata": {},
   "outputs": [
    {
     "data": {
      "text/plain": [
       "Job Titles\n",
       "POLICE OFFICER                            8252\n",
       "FIREFIGHTER-EMT                           1627\n",
       "SERGEANT                                  1244\n",
       "POLICE OFFICER (ASSIGNED AS DETECTIVE)    1096\n",
       "MOTOR TRUCK DRIVER                         982\n",
       "                                          ... \n",
       "EQUIPMENT RENTAL COORD                       1\n",
       "MANAGER - ZONING BD OF APPEALS               1\n",
       "DATA ARCHITECT                               1\n",
       "COORD OF GRANTS MANAGEMENT                   1\n",
       "SUPERVISING PHOTOGRAPHIC TECHNICIAN          1\n",
       "Name: count, Length: 1150, dtype: int64"
      ]
     },
     "execution_count": 3,
     "metadata": {},
     "output_type": "execute_result"
    }
   ],
   "source": [
    "df['Job Titles'].value_counts()"
   ]
  }
 ],
 "metadata": {
  "kernelspec": {
   "display_name": "venv",
   "language": "python",
   "name": "python3"
  },
  "language_info": {
   "codemirror_mode": {
    "name": "ipython",
    "version": 3
   },
   "file_extension": ".py",
   "mimetype": "text/x-python",
   "name": "python",
   "nbconvert_exporter": "python",
   "pygments_lexer": "ipython3",
   "version": "3.12.4"
  }
 },
 "nbformat": 4,
 "nbformat_minor": 2
}
