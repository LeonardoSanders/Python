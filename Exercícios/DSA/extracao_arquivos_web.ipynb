{
 "cells": [
  {
   "cell_type": "code",
   "execution_count": 2,
   "metadata": {},
   "outputs": [
    {
     "data": {
      "text/plain": [
       "{'id': 57733101,\n",
       " 'title': 'The Good Man trailer',\n",
       " 'description': 'Trailer for the Manifesto Films production, The Good Man, now available in UK/Ireland/US/Canada/Australia/New Zealand on iTunes (https://itunes.apple.com/us/movie/the-good-man/id873130906) and DVD (http://www.amazon.co.uk/The-Good-Man-Aiden-Gillen/dp/B00IIK6CGU/). Co-production with Jet Black Entertainment (South Africa). Starring Aidan Gillen, Thabang Sidloyi, Kelly Campbell, Lunathi Mampofu. Written & directed by Phil Harrison. More info at www.thegoodmanfilm.com<br />\\r\\n<br />\\r\\nCheck out the Variety Magazine review here: http://www.variety.com/review/VE1117947909/',\n",
       " 'url': 'https://vimeo.com/57733101',\n",
       " 'upload_date': '2013-01-19 04:01:15',\n",
       " 'thumbnail_small': 'https://i.vimeocdn.com/video/436057121-e828a1f5478ec0136e957753d107f2a1268c64def9b82faac37c8e30c031cff2-d_100x75',\n",
       " 'thumbnail_medium': 'https://i.vimeocdn.com/video/436057121-e828a1f5478ec0136e957753d107f2a1268c64def9b82faac37c8e30c031cff2-d_200x150',\n",
       " 'thumbnail_large': 'https://i.vimeocdn.com/video/436057121-e828a1f5478ec0136e957753d107f2a1268c64def9b82faac37c8e30c031cff2-d_640',\n",
       " 'user_id': 1334563,\n",
       " 'user_name': 'Manifesto Films',\n",
       " 'user_url': 'https://vimeo.com/manifestofilms',\n",
       " 'user_portrait_small': 'https://i.vimeocdn.com/portrait/4778306_30x30?sig=dce4bd41e32adf3305ffd0a161ae27a5c919bba5773cf2f2c3ca5be075726518&v=1',\n",
       " 'user_portrait_medium': 'https://i.vimeocdn.com/portrait/4778306_75x75?sig=dce4bd41e32adf3305ffd0a161ae27a5c919bba5773cf2f2c3ca5be075726518&v=1',\n",
       " 'user_portrait_large': 'https://i.vimeocdn.com/portrait/4778306_100x100?sig=dce4bd41e32adf3305ffd0a161ae27a5c919bba5773cf2f2c3ca5be075726518&v=1',\n",
       " 'user_portrait_huge': 'https://i.vimeocdn.com/portrait/4778306_300x300?sig=dce4bd41e32adf3305ffd0a161ae27a5c919bba5773cf2f2c3ca5be075726518&v=1',\n",
       " 'stats_number_of_likes': 18,\n",
       " 'stats_number_of_plays': 6767,\n",
       " 'stats_number_of_comments': 0,\n",
       " 'duration': 143,\n",
       " 'width': 1024,\n",
       " 'height': 576,\n",
       " 'tags': 'belfast, cape town, africa, ireland, film',\n",
       " 'embed_privacy': 'anywhere'}"
      ]
     },
     "execution_count": 2,
     "metadata": {},
     "output_type": "execute_result"
    }
   ],
   "source": [
    "from urllib.request import urlopen\n",
    "import json\n",
    "\n",
    "response = urlopen('https://vimeo.com/api/v2/video/57733101.json').read().decode('utf8')\n",
    "dados = json.loads(response)[0]\n",
    "dados"
   ]
  },
  {
   "cell_type": "code",
   "execution_count": 10,
   "metadata": {},
   "outputs": [
    {
     "data": {
      "text/plain": [
       "<_io.TextIOWrapper name='dados.txt' mode='w' encoding='cp1252'>"
      ]
     },
     "execution_count": 10,
     "metadata": {},
     "output_type": "execute_result"
    }
   ],
   "source": [
    "open('dados.txt', 'w')"
   ]
  },
  {
   "cell_type": "code",
   "execution_count": 11,
   "metadata": {},
   "outputs": [],
   "source": [
    "#Nome dos arquivos\n",
    "arquivo_fonte = 'dados.json'\n",
    "arquivo_destino = 'dados.txt'"
   ]
  },
  {
   "cell_type": "code",
   "execution_count": 14,
   "metadata": {},
   "outputs": [],
   "source": [
    "#Método 1\n",
    "with open(arquivo_fonte, 'r') as infile:\n",
    "    text = infile.read()\n",
    "    with open(arquivo_destino, 'w') as outfile:\n",
    "        outfile.write(text)"
   ]
  },
  {
   "cell_type": "code",
   "execution_count": 15,
   "metadata": {},
   "outputs": [
    {
     "data": {
      "text/plain": [
       "107"
      ]
     },
     "execution_count": 15,
     "metadata": {},
     "output_type": "execute_result"
    }
   ],
   "source": [
    "#Método 2\n",
    "open(arquivo_destino, 'w').write(open(arquivo_fonte, 'r').read())"
   ]
  },
  {
   "cell_type": "code",
   "execution_count": 16,
   "metadata": {},
   "outputs": [
    {
     "data": {
      "text/plain": [
       "{'nome': 'Guido van Rossum',\n",
       " 'linguagem': 'python',\n",
       " 'similar': ['c', 'Modula-3', 'lisp'],\n",
       " 'users': 1000000}"
      ]
     },
     "execution_count": 16,
     "metadata": {},
     "output_type": "execute_result"
    }
   ],
   "source": [
    "#Leitura do arquivo txt\n",
    "with open('dados.txt', 'r') as arquivo:\n",
    "    texto = arquivo.read()\n",
    "    dados = json.loads(texto)\n",
    "\n",
    "dados"
   ]
  }
 ],
 "metadata": {
  "kernelspec": {
   "display_name": "venv",
   "language": "python",
   "name": "python3"
  },
  "language_info": {
   "codemirror_mode": {
    "name": "ipython",
    "version": 3
   },
   "file_extension": ".py",
   "mimetype": "text/x-python",
   "name": "python",
   "nbconvert_exporter": "python",
   "pygments_lexer": "ipython3",
   "version": "3.12.4"
  }
 },
 "nbformat": 4,
 "nbformat_minor": 2
}
