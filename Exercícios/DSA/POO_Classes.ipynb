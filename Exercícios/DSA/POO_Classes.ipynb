{
 "cells": [
  {
   "cell_type": "code",
   "execution_count": 14,
   "metadata": {},
   "outputs": [],
   "source": [
    "#Criando uma classe chamado Livro\n",
    "class Livro():\n",
    "\n",
    "    #Este método vai inicializar cada objeto criado a partir desta classe\n",
    "    #O nome deste método é __init__\n",
    "    #(self) é uma referência a cada atributo da própria classe (e não de uma classe mãe, por exemplo)\n",
    "    \n",
    "    def __init__(self):\n",
    "        self.titulo = 'Sapien - Uma breve História da Humanidade'\n",
    "        self.isbn = 998888\n",
    "        print('Construtor chamado para criar um objeto deste classe!')\n",
    "\n",
    "    def imprime(self):\n",
    "            print(f'Foi criado o Livro {self.titulo} com ISBN {self.isbn}.')"
   ]
  },
  {
   "cell_type": "markdown",
   "metadata": {},
   "source": [
    "Em Python, a palavra self é uma referência ao objeto atual da classe. Quando um objeto é criado a partir de uma clsse, self é utilizado para se referir a esse objeto específico."
   ]
  },
  {
   "cell_type": "code",
   "execution_count": 15,
   "metadata": {},
   "outputs": [
    {
     "name": "stdout",
     "output_type": "stream",
     "text": [
      "Construtor chamado para criar um objeto deste classe!\n"
     ]
    }
   ],
   "source": [
    "#Criando uma instância da classe livro\n",
    "Livro1 = Livro()\n"
   ]
  },
  {
   "cell_type": "code",
   "execution_count": 16,
   "metadata": {},
   "outputs": [
    {
     "name": "stdout",
     "output_type": "stream",
     "text": [
      "Foi criado o Livro Sapien - Uma breve História da Humanidade com ISBN 998888.\n"
     ]
    }
   ],
   "source": [
    "#Método do Livro\n",
    "Livro1.imprime()"
   ]
  },
  {
   "cell_type": "markdown",
   "metadata": {},
   "source": [
    "Recriando a classe com parâmetros (titulo e isbn) dinâmicos"
   ]
  },
  {
   "cell_type": "code",
   "execution_count": 20,
   "metadata": {},
   "outputs": [],
   "source": [
    "class Livro():\n",
    "\n",
    "    def __init__(self, titulo, isbn):\n",
    "        self.titulo = titulo\n",
    "        self.isbn = isbn\n",
    "        print('Construtor chamado para criar um objeto desta classe!')\n",
    "\n",
    "    def imprime(self):\n",
    "        print(f'Este é o Livro {self.titulo} e ISBN {self.isbn}')"
   ]
  },
  {
   "cell_type": "code",
   "execution_count": 21,
   "metadata": {},
   "outputs": [
    {
     "name": "stdout",
     "output_type": "stream",
     "text": [
      "Construtor chamado para criar um objeto desta classe!\n"
     ]
    }
   ],
   "source": [
    "livro2 = Livro('Senhor dos Anéis', 13998766)"
   ]
  },
  {
   "cell_type": "code",
   "execution_count": 22,
   "metadata": {},
   "outputs": [
    {
     "name": "stdout",
     "output_type": "stream",
     "text": [
      "Este é o Livro Senhor dos Anéis e ISBN 13998766\n"
     ]
    }
   ],
   "source": [
    "livro2.imprime()"
   ]
  },
  {
   "cell_type": "code",
   "execution_count": 31,
   "metadata": {},
   "outputs": [],
   "source": [
    "class Algoritmo():\n",
    "\n",
    "    def __init__(self, tipo_algo) -> None:\n",
    "        self.tipo = tipo_algo\n",
    "        print('Construtor chamado para criar um objeto deste classe!')\n",
    "    \n",
    "    def imprime(self):\n",
    "        print(f'O Algoritmo criado é {self.tipo}.')"
   ]
  },
  {
   "cell_type": "code",
   "execution_count": 32,
   "metadata": {},
   "outputs": [
    {
     "name": "stdout",
     "output_type": "stream",
     "text": [
      "Construtor chamado para criar um objeto deste classe!\n"
     ]
    }
   ],
   "source": [
    "algo1 = Algoritmo('Random Forest')"
   ]
  },
  {
   "cell_type": "code",
   "execution_count": 33,
   "metadata": {},
   "outputs": [
    {
     "name": "stdout",
     "output_type": "stream",
     "text": [
      "O Algoritmo criado é Random Forest.\n"
     ]
    }
   ],
   "source": [
    "algo1.imprime()"
   ]
  }
 ],
 "metadata": {
  "kernelspec": {
   "display_name": "venv",
   "language": "python",
   "name": "python3"
  },
  "language_info": {
   "codemirror_mode": {
    "name": "ipython",
    "version": 3
   },
   "file_extension": ".py",
   "mimetype": "text/x-python",
   "name": "python",
   "nbconvert_exporter": "python",
   "pygments_lexer": "ipython3",
   "version": "3.12.4"
  }
 },
 "nbformat": 4,
 "nbformat_minor": 2
}
